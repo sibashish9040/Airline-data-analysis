{
 "cells": [
  {
   "cell_type": "markdown",
   "id": "11919cec",
   "metadata": {},
   "source": [
    "<p align=\"center\">\n",
    "  <img src=\"./Report/alev-takil-TuFsbn5gedo-unsplash.jpg\" width=\"800\">\n",
    "</p>\n",
    "Let's start"
   ]
  },
  {
   "cell_type": "markdown",
   "id": "37f9f5f9",
   "metadata": {},
   "source": [
    "### Let's import all the dependencies"
   ]
  },
  {
   "cell_type": "code",
   "execution_count": 2,
   "id": "2357d214",
   "metadata": {},
   "outputs": [],
   "source": [
    "import sqlite3\n",
    "import pandas as pd\n",
    "import numpy as np\n",
    "import matplotlib.pyplot as plt\n",
    "import seaborn as sns\n",
    "import json\n",
    "\n",
    "import warnings\n",
    "warnings.filterwarnings('ignore')"
   ]
  },
  {
   "cell_type": "markdown",
   "id": "70a12ae5",
   "metadata": {},
   "source": [
    "### Let's connect to our database"
   ]
  },
  {
   "cell_type": "code",
   "execution_count": 3,
   "id": "778ad21a",
   "metadata": {},
   "outputs": [],
   "source": [
    "connection = sqlite3.connect('travel.sqlite')\n",
    "cu = connection.cursor()\n",
    "# to send SQL statements, iterate over the cursor to fetch results, and call methods"
   ]
  },
  {
   "cell_type": "markdown",
   "id": "1e7e84bb",
   "metadata": {},
   "source": [
    "### Let's view our tables"
   ]
  },
  {
   "cell_type": "code",
   "execution_count": 4,
   "id": "ac8546df",
   "metadata": {},
   "outputs": [
    {
     "name": "stdout",
     "output_type": "stream",
     "text": [
      "List of tables present in the database\n"
     ]
    },
    {
     "data": {
      "text/plain": [
       "['aircrafts_data',\n",
       " 'airports_data',\n",
       " 'boarding_passes',\n",
       " 'bookings',\n",
       " 'flights',\n",
       " 'seats',\n",
       " 'ticket_flights',\n",
       " 'tickets']"
      ]
     },
     "execution_count": 4,
     "metadata": {},
     "output_type": "execute_result"
    }
   ],
   "source": [
    "cu.execute(\"\"\"\n",
    "    SELECT name\n",
    "    FROM sqlite_master\n",
    "    WHERE type = 'table';\n",
    "\"\"\")\n",
    "print('List of tables present in the database')\n",
    "table_list = [table[0] for table in cu.fetchall()]\n",
    "table_list"
   ]
  },
  {
   "cell_type": "markdown",
   "id": "56f4efd2",
   "metadata": {},
   "source": [
    "### Data exploration"
   ]
  },
  {
   "cell_type": "markdown",
   "id": "cda7b0f3",
   "metadata": {},
   "source": [
    "#### table-1: aircraft_data"
   ]
  },
  {
   "cell_type": "code",
   "execution_count": 5,
   "id": "5c55f571",
   "metadata": {},
   "outputs": [
    {
     "name": "stdout",
     "output_type": "stream",
     "text": [
      "(9, 3)\n"
     ]
    },
    {
     "data": {
      "text/html": [
       "<div>\n",
       "<style scoped>\n",
       "    .dataframe tbody tr th:only-of-type {\n",
       "        vertical-align: middle;\n",
       "    }\n",
       "\n",
       "    .dataframe tbody tr th {\n",
       "        vertical-align: top;\n",
       "    }\n",
       "\n",
       "    .dataframe thead th {\n",
       "        text-align: right;\n",
       "    }\n",
       "</style>\n",
       "<table border=\"1\" class=\"dataframe\">\n",
       "  <thead>\n",
       "    <tr style=\"text-align: right;\">\n",
       "      <th></th>\n",
       "      <th>aircraft_code</th>\n",
       "      <th>model</th>\n",
       "      <th>range</th>\n",
       "    </tr>\n",
       "  </thead>\n",
       "  <tbody>\n",
       "    <tr>\n",
       "      <th>0</th>\n",
       "      <td>773</td>\n",
       "      <td>{\"en\": \"Boeing 777-300\", \"ru\": \"Боинг 777-300\"}</td>\n",
       "      <td>11100</td>\n",
       "    </tr>\n",
       "    <tr>\n",
       "      <th>1</th>\n",
       "      <td>763</td>\n",
       "      <td>{\"en\": \"Boeing 767-300\", \"ru\": \"Боинг 767-300\"}</td>\n",
       "      <td>7900</td>\n",
       "    </tr>\n",
       "    <tr>\n",
       "      <th>2</th>\n",
       "      <td>SU9</td>\n",
       "      <td>{\"en\": \"Sukhoi Superjet-100\", \"ru\": \"Сухой Суп...</td>\n",
       "      <td>3000</td>\n",
       "    </tr>\n",
       "    <tr>\n",
       "      <th>3</th>\n",
       "      <td>320</td>\n",
       "      <td>{\"en\": \"Airbus A320-200\", \"ru\": \"Аэробус A320-...</td>\n",
       "      <td>5700</td>\n",
       "    </tr>\n",
       "    <tr>\n",
       "      <th>4</th>\n",
       "      <td>321</td>\n",
       "      <td>{\"en\": \"Airbus A321-200\", \"ru\": \"Аэробус A321-...</td>\n",
       "      <td>5600</td>\n",
       "    </tr>\n",
       "  </tbody>\n",
       "</table>\n",
       "</div>"
      ],
      "text/plain": [
       "  aircraft_code                                              model  range\n",
       "0           773    {\"en\": \"Boeing 777-300\", \"ru\": \"Боинг 777-300\"}  11100\n",
       "1           763    {\"en\": \"Boeing 767-300\", \"ru\": \"Боинг 767-300\"}   7900\n",
       "2           SU9  {\"en\": \"Sukhoi Superjet-100\", \"ru\": \"Сухой Суп...   3000\n",
       "3           320  {\"en\": \"Airbus A320-200\", \"ru\": \"Аэробус A320-...   5700\n",
       "4           321  {\"en\": \"Airbus A321-200\", \"ru\": \"Аэробус A321-...   5600"
      ]
     },
     "execution_count": 5,
     "metadata": {},
     "output_type": "execute_result"
    }
   ],
   "source": [
    "aircraft_data = pd.read_sql_query(\"SELECT * FROM aircrafts_data\", connection)\n",
    "#lets view the rows\n",
    "print(aircraft_data.shape)\n",
    "aircraft_data.head()"
   ]
  },
  {
   "cell_type": "code",
   "execution_count": 6,
   "id": "aa3a035c",
   "metadata": {},
   "outputs": [],
   "source": [
    "# as here there are many other languages so we'll leave them only keep th english format\n",
    "aircraft_data['model'] = aircraft_data['model'].apply(lambda x: json.loads(x)['en'])\n",
    "#here we can also use map() function instead of apply() function"
   ]
  },
  {
   "cell_type": "code",
   "execution_count": 7,
   "id": "c8db1b39",
   "metadata": {},
   "outputs": [
    {
     "data": {
      "text/html": [
       "<div>\n",
       "<style scoped>\n",
       "    .dataframe tbody tr th:only-of-type {\n",
       "        vertical-align: middle;\n",
       "    }\n",
       "\n",
       "    .dataframe tbody tr th {\n",
       "        vertical-align: top;\n",
       "    }\n",
       "\n",
       "    .dataframe thead th {\n",
       "        text-align: right;\n",
       "    }\n",
       "</style>\n",
       "<table border=\"1\" class=\"dataframe\">\n",
       "  <thead>\n",
       "    <tr style=\"text-align: right;\">\n",
       "      <th></th>\n",
       "      <th>aircraft_code</th>\n",
       "      <th>model</th>\n",
       "      <th>range</th>\n",
       "    </tr>\n",
       "  </thead>\n",
       "  <tbody>\n",
       "    <tr>\n",
       "      <th>0</th>\n",
       "      <td>773</td>\n",
       "      <td>Boeing 777-300</td>\n",
       "      <td>11100</td>\n",
       "    </tr>\n",
       "    <tr>\n",
       "      <th>1</th>\n",
       "      <td>763</td>\n",
       "      <td>Boeing 767-300</td>\n",
       "      <td>7900</td>\n",
       "    </tr>\n",
       "    <tr>\n",
       "      <th>2</th>\n",
       "      <td>SU9</td>\n",
       "      <td>Sukhoi Superjet-100</td>\n",
       "      <td>3000</td>\n",
       "    </tr>\n",
       "    <tr>\n",
       "      <th>3</th>\n",
       "      <td>320</td>\n",
       "      <td>Airbus A320-200</td>\n",
       "      <td>5700</td>\n",
       "    </tr>\n",
       "    <tr>\n",
       "      <th>4</th>\n",
       "      <td>321</td>\n",
       "      <td>Airbus A321-200</td>\n",
       "      <td>5600</td>\n",
       "    </tr>\n",
       "  </tbody>\n",
       "</table>\n",
       "</div>"
      ],
      "text/plain": [
       "  aircraft_code                model  range\n",
       "0           773       Boeing 777-300  11100\n",
       "1           763       Boeing 767-300   7900\n",
       "2           SU9  Sukhoi Superjet-100   3000\n",
       "3           320      Airbus A320-200   5700\n",
       "4           321      Airbus A321-200   5600"
      ]
     },
     "execution_count": 7,
     "metadata": {},
     "output_type": "execute_result"
    }
   ],
   "source": [
    "aircraft_data.head()"
   ]
  },
  {
   "cell_type": "markdown",
   "id": "ebd5bb38",
   "metadata": {},
   "source": [
    "#### table-2: airports_data"
   ]
  },
  {
   "cell_type": "code",
   "execution_count": 8,
   "id": "e9f29e3f",
   "metadata": {},
   "outputs": [
    {
     "name": "stdout",
     "output_type": "stream",
     "text": [
      "(104, 5)\n"
     ]
    },
    {
     "data": {
      "text/html": [
       "<div>\n",
       "<style scoped>\n",
       "    .dataframe tbody tr th:only-of-type {\n",
       "        vertical-align: middle;\n",
       "    }\n",
       "\n",
       "    .dataframe tbody tr th {\n",
       "        vertical-align: top;\n",
       "    }\n",
       "\n",
       "    .dataframe thead th {\n",
       "        text-align: right;\n",
       "    }\n",
       "</style>\n",
       "<table border=\"1\" class=\"dataframe\">\n",
       "  <thead>\n",
       "    <tr style=\"text-align: right;\">\n",
       "      <th></th>\n",
       "      <th>airport_code</th>\n",
       "      <th>airport_name</th>\n",
       "      <th>city</th>\n",
       "      <th>coordinates</th>\n",
       "      <th>timezone</th>\n",
       "    </tr>\n",
       "  </thead>\n",
       "  <tbody>\n",
       "    <tr>\n",
       "      <th>0</th>\n",
       "      <td>YKS</td>\n",
       "      <td>{\"en\": \"Yakutsk Airport\", \"ru\": \"Якутск\"}</td>\n",
       "      <td>{\"en\": \"Yakutsk\", \"ru\": \"Якутск\"}</td>\n",
       "      <td>(129.77099609375,62.0932998657226562)</td>\n",
       "      <td>Asia/Yakutsk</td>\n",
       "    </tr>\n",
       "    <tr>\n",
       "      <th>1</th>\n",
       "      <td>MJZ</td>\n",
       "      <td>{\"en\": \"Mirny Airport\", \"ru\": \"Мирный\"}</td>\n",
       "      <td>{\"en\": \"Mirnyj\", \"ru\": \"Мирный\"}</td>\n",
       "      <td>(114.03900146484375,62.534698486328125)</td>\n",
       "      <td>Asia/Yakutsk</td>\n",
       "    </tr>\n",
       "    <tr>\n",
       "      <th>2</th>\n",
       "      <td>KHV</td>\n",
       "      <td>{\"en\": \"Khabarovsk-Novy Airport\", \"ru\": \"Хабар...</td>\n",
       "      <td>{\"en\": \"Khabarovsk\", \"ru\": \"Хабаровск\"}</td>\n",
       "      <td>(135.18800354004,48.5279998779300001)</td>\n",
       "      <td>Asia/Vladivostok</td>\n",
       "    </tr>\n",
       "    <tr>\n",
       "      <th>3</th>\n",
       "      <td>PKC</td>\n",
       "      <td>{\"en\": \"Yelizovo Airport\", \"ru\": \"Елизово\"}</td>\n",
       "      <td>{\"en\": \"Petropavlovsk\", \"ru\": \"Петропавловск-К...</td>\n",
       "      <td>(158.453994750976562,53.1679000854492188)</td>\n",
       "      <td>Asia/Kamchatka</td>\n",
       "    </tr>\n",
       "    <tr>\n",
       "      <th>4</th>\n",
       "      <td>UUS</td>\n",
       "      <td>{\"en\": \"Yuzhno-Sakhalinsk Airport\", \"ru\": \"Хом...</td>\n",
       "      <td>{\"en\": \"Yuzhno-Sakhalinsk\", \"ru\": \"Южно-Сахали...</td>\n",
       "      <td>(142.718002319335938,46.8886985778808594)</td>\n",
       "      <td>Asia/Sakhalin</td>\n",
       "    </tr>\n",
       "  </tbody>\n",
       "</table>\n",
       "</div>"
      ],
      "text/plain": [
       "  airport_code                                       airport_name  \\\n",
       "0          YKS          {\"en\": \"Yakutsk Airport\", \"ru\": \"Якутск\"}   \n",
       "1          MJZ            {\"en\": \"Mirny Airport\", \"ru\": \"Мирный\"}   \n",
       "2          KHV  {\"en\": \"Khabarovsk-Novy Airport\", \"ru\": \"Хабар...   \n",
       "3          PKC        {\"en\": \"Yelizovo Airport\", \"ru\": \"Елизово\"}   \n",
       "4          UUS  {\"en\": \"Yuzhno-Sakhalinsk Airport\", \"ru\": \"Хом...   \n",
       "\n",
       "                                                city  \\\n",
       "0                  {\"en\": \"Yakutsk\", \"ru\": \"Якутск\"}   \n",
       "1                   {\"en\": \"Mirnyj\", \"ru\": \"Мирный\"}   \n",
       "2            {\"en\": \"Khabarovsk\", \"ru\": \"Хабаровск\"}   \n",
       "3  {\"en\": \"Petropavlovsk\", \"ru\": \"Петропавловск-К...   \n",
       "4  {\"en\": \"Yuzhno-Sakhalinsk\", \"ru\": \"Южно-Сахали...   \n",
       "\n",
       "                                 coordinates          timezone  \n",
       "0      (129.77099609375,62.0932998657226562)      Asia/Yakutsk  \n",
       "1    (114.03900146484375,62.534698486328125)      Asia/Yakutsk  \n",
       "2      (135.18800354004,48.5279998779300001)  Asia/Vladivostok  \n",
       "3  (158.453994750976562,53.1679000854492188)    Asia/Kamchatka  \n",
       "4  (142.718002319335938,46.8886985778808594)     Asia/Sakhalin  "
      ]
     },
     "execution_count": 8,
     "metadata": {},
     "output_type": "execute_result"
    }
   ],
   "source": [
    "airports_data = pd.read_sql_query('SELECT * FROM airports_data', connection)\n",
    "print(airports_data.shape)\n",
    "airports_data.head()"
   ]
  },
  {
   "cell_type": "code",
   "execution_count": 9,
   "id": "439dfae3",
   "metadata": {},
   "outputs": [],
   "source": [
    "# as here also there are many other languages so we'll leave them only keep th english format\n",
    "airports_data['airport_name'] = airports_data['airport_name'].apply(lambda x: json.loads(x)['en'])\n",
    "airports_data['city'] = airports_data['city'].apply(lambda x: json.loads(x)['en'])"
   ]
  },
  {
   "cell_type": "code",
   "execution_count": 10,
   "id": "d176ecbe",
   "metadata": {},
   "outputs": [
    {
     "data": {
      "text/html": [
       "<div>\n",
       "<style scoped>\n",
       "    .dataframe tbody tr th:only-of-type {\n",
       "        vertical-align: middle;\n",
       "    }\n",
       "\n",
       "    .dataframe tbody tr th {\n",
       "        vertical-align: top;\n",
       "    }\n",
       "\n",
       "    .dataframe thead th {\n",
       "        text-align: right;\n",
       "    }\n",
       "</style>\n",
       "<table border=\"1\" class=\"dataframe\">\n",
       "  <thead>\n",
       "    <tr style=\"text-align: right;\">\n",
       "      <th></th>\n",
       "      <th>airport_code</th>\n",
       "      <th>airport_name</th>\n",
       "      <th>city</th>\n",
       "      <th>coordinates</th>\n",
       "      <th>timezone</th>\n",
       "    </tr>\n",
       "  </thead>\n",
       "  <tbody>\n",
       "    <tr>\n",
       "      <th>0</th>\n",
       "      <td>YKS</td>\n",
       "      <td>Yakutsk Airport</td>\n",
       "      <td>Yakutsk</td>\n",
       "      <td>(129.77099609375,62.0932998657226562)</td>\n",
       "      <td>Asia/Yakutsk</td>\n",
       "    </tr>\n",
       "    <tr>\n",
       "      <th>1</th>\n",
       "      <td>MJZ</td>\n",
       "      <td>Mirny Airport</td>\n",
       "      <td>Mirnyj</td>\n",
       "      <td>(114.03900146484375,62.534698486328125)</td>\n",
       "      <td>Asia/Yakutsk</td>\n",
       "    </tr>\n",
       "    <tr>\n",
       "      <th>2</th>\n",
       "      <td>KHV</td>\n",
       "      <td>Khabarovsk-Novy Airport</td>\n",
       "      <td>Khabarovsk</td>\n",
       "      <td>(135.18800354004,48.5279998779300001)</td>\n",
       "      <td>Asia/Vladivostok</td>\n",
       "    </tr>\n",
       "    <tr>\n",
       "      <th>3</th>\n",
       "      <td>PKC</td>\n",
       "      <td>Yelizovo Airport</td>\n",
       "      <td>Petropavlovsk</td>\n",
       "      <td>(158.453994750976562,53.1679000854492188)</td>\n",
       "      <td>Asia/Kamchatka</td>\n",
       "    </tr>\n",
       "    <tr>\n",
       "      <th>4</th>\n",
       "      <td>UUS</td>\n",
       "      <td>Yuzhno-Sakhalinsk Airport</td>\n",
       "      <td>Yuzhno-Sakhalinsk</td>\n",
       "      <td>(142.718002319335938,46.8886985778808594)</td>\n",
       "      <td>Asia/Sakhalin</td>\n",
       "    </tr>\n",
       "  </tbody>\n",
       "</table>\n",
       "</div>"
      ],
      "text/plain": [
       "  airport_code               airport_name               city  \\\n",
       "0          YKS            Yakutsk Airport            Yakutsk   \n",
       "1          MJZ              Mirny Airport             Mirnyj   \n",
       "2          KHV    Khabarovsk-Novy Airport         Khabarovsk   \n",
       "3          PKC           Yelizovo Airport      Petropavlovsk   \n",
       "4          UUS  Yuzhno-Sakhalinsk Airport  Yuzhno-Sakhalinsk   \n",
       "\n",
       "                                 coordinates          timezone  \n",
       "0      (129.77099609375,62.0932998657226562)      Asia/Yakutsk  \n",
       "1    (114.03900146484375,62.534698486328125)      Asia/Yakutsk  \n",
       "2      (135.18800354004,48.5279998779300001)  Asia/Vladivostok  \n",
       "3  (158.453994750976562,53.1679000854492188)    Asia/Kamchatka  \n",
       "4  (142.718002319335938,46.8886985778808594)     Asia/Sakhalin  "
      ]
     },
     "execution_count": 10,
     "metadata": {},
     "output_type": "execute_result"
    }
   ],
   "source": [
    "airports_data.head()"
   ]
  },
  {
   "cell_type": "markdown",
   "id": "53f7ca7e",
   "metadata": {},
   "source": [
    "#### table-3: boarding_passes"
   ]
  },
  {
   "cell_type": "code",
   "execution_count": 11,
   "id": "13214c67",
   "metadata": {},
   "outputs": [
    {
     "name": "stdout",
     "output_type": "stream",
     "text": [
      "(579686, 4)\n"
     ]
    },
    {
     "data": {
      "text/html": [
       "<div>\n",
       "<style scoped>\n",
       "    .dataframe tbody tr th:only-of-type {\n",
       "        vertical-align: middle;\n",
       "    }\n",
       "\n",
       "    .dataframe tbody tr th {\n",
       "        vertical-align: top;\n",
       "    }\n",
       "\n",
       "    .dataframe thead th {\n",
       "        text-align: right;\n",
       "    }\n",
       "</style>\n",
       "<table border=\"1\" class=\"dataframe\">\n",
       "  <thead>\n",
       "    <tr style=\"text-align: right;\">\n",
       "      <th></th>\n",
       "      <th>ticket_no</th>\n",
       "      <th>flight_id</th>\n",
       "      <th>boarding_no</th>\n",
       "      <th>seat_no</th>\n",
       "    </tr>\n",
       "  </thead>\n",
       "  <tbody>\n",
       "    <tr>\n",
       "      <th>0</th>\n",
       "      <td>0005435212351</td>\n",
       "      <td>30625</td>\n",
       "      <td>1</td>\n",
       "      <td>2D</td>\n",
       "    </tr>\n",
       "    <tr>\n",
       "      <th>1</th>\n",
       "      <td>0005435212386</td>\n",
       "      <td>30625</td>\n",
       "      <td>2</td>\n",
       "      <td>3G</td>\n",
       "    </tr>\n",
       "    <tr>\n",
       "      <th>2</th>\n",
       "      <td>0005435212381</td>\n",
       "      <td>30625</td>\n",
       "      <td>3</td>\n",
       "      <td>4H</td>\n",
       "    </tr>\n",
       "    <tr>\n",
       "      <th>3</th>\n",
       "      <td>0005432211370</td>\n",
       "      <td>30625</td>\n",
       "      <td>4</td>\n",
       "      <td>5D</td>\n",
       "    </tr>\n",
       "    <tr>\n",
       "      <th>4</th>\n",
       "      <td>0005435212357</td>\n",
       "      <td>30625</td>\n",
       "      <td>5</td>\n",
       "      <td>11A</td>\n",
       "    </tr>\n",
       "  </tbody>\n",
       "</table>\n",
       "</div>"
      ],
      "text/plain": [
       "       ticket_no  flight_id  boarding_no seat_no\n",
       "0  0005435212351      30625            1      2D\n",
       "1  0005435212386      30625            2      3G\n",
       "2  0005435212381      30625            3      4H\n",
       "3  0005432211370      30625            4      5D\n",
       "4  0005435212357      30625            5     11A"
      ]
     },
     "execution_count": 11,
     "metadata": {},
     "output_type": "execute_result"
    }
   ],
   "source": [
    "boarding_passes = pd.read_sql_query('SELECT * FROM boarding_passes', connection)\n",
    "print(boarding_passes.shape)\n",
    "boarding_passes.head()"
   ]
  },
  {
   "cell_type": "markdown",
   "id": "0812928c",
   "metadata": {},
   "source": [
    "#### table-4: bookings"
   ]
  },
  {
   "cell_type": "code",
   "execution_count": 12,
   "id": "a95d40de",
   "metadata": {},
   "outputs": [
    {
     "name": "stdout",
     "output_type": "stream",
     "text": [
      "(262788, 3)\n"
     ]
    },
    {
     "data": {
      "text/html": [
       "<div>\n",
       "<style scoped>\n",
       "    .dataframe tbody tr th:only-of-type {\n",
       "        vertical-align: middle;\n",
       "    }\n",
       "\n",
       "    .dataframe tbody tr th {\n",
       "        vertical-align: top;\n",
       "    }\n",
       "\n",
       "    .dataframe thead th {\n",
       "        text-align: right;\n",
       "    }\n",
       "</style>\n",
       "<table border=\"1\" class=\"dataframe\">\n",
       "  <thead>\n",
       "    <tr style=\"text-align: right;\">\n",
       "      <th></th>\n",
       "      <th>book_ref</th>\n",
       "      <th>book_date</th>\n",
       "      <th>total_amount</th>\n",
       "    </tr>\n",
       "  </thead>\n",
       "  <tbody>\n",
       "    <tr>\n",
       "      <th>0</th>\n",
       "      <td>00000F</td>\n",
       "      <td>2017-07-05 03:12:00+03</td>\n",
       "      <td>265700</td>\n",
       "    </tr>\n",
       "    <tr>\n",
       "      <th>1</th>\n",
       "      <td>000012</td>\n",
       "      <td>2017-07-14 09:02:00+03</td>\n",
       "      <td>37900</td>\n",
       "    </tr>\n",
       "    <tr>\n",
       "      <th>2</th>\n",
       "      <td>000068</td>\n",
       "      <td>2017-08-15 14:27:00+03</td>\n",
       "      <td>18100</td>\n",
       "    </tr>\n",
       "    <tr>\n",
       "      <th>3</th>\n",
       "      <td>000181</td>\n",
       "      <td>2017-08-10 13:28:00+03</td>\n",
       "      <td>131800</td>\n",
       "    </tr>\n",
       "    <tr>\n",
       "      <th>4</th>\n",
       "      <td>0002D8</td>\n",
       "      <td>2017-08-07 21:40:00+03</td>\n",
       "      <td>23600</td>\n",
       "    </tr>\n",
       "  </tbody>\n",
       "</table>\n",
       "</div>"
      ],
      "text/plain": [
       "  book_ref               book_date  total_amount\n",
       "0   00000F  2017-07-05 03:12:00+03        265700\n",
       "1   000012  2017-07-14 09:02:00+03         37900\n",
       "2   000068  2017-08-15 14:27:00+03         18100\n",
       "3   000181  2017-08-10 13:28:00+03        131800\n",
       "4   0002D8  2017-08-07 21:40:00+03         23600"
      ]
     },
     "execution_count": 12,
     "metadata": {},
     "output_type": "execute_result"
    }
   ],
   "source": [
    "bookings = pd.read_sql_query('SELECT * FROM bookings', connection)\n",
    "print(bookings.shape)\n",
    "bookings.head()"
   ]
  },
  {
   "cell_type": "markdown",
   "id": "2454a6ac",
   "metadata": {},
   "source": [
    "#### table-5: flights"
   ]
  },
  {
   "cell_type": "code",
   "execution_count": 13,
   "id": "f5b946b5",
   "metadata": {},
   "outputs": [
    {
     "name": "stdout",
     "output_type": "stream",
     "text": [
      "(33121, 10)\n"
     ]
    },
    {
     "data": {
      "text/html": [
       "<div>\n",
       "<style scoped>\n",
       "    .dataframe tbody tr th:only-of-type {\n",
       "        vertical-align: middle;\n",
       "    }\n",
       "\n",
       "    .dataframe tbody tr th {\n",
       "        vertical-align: top;\n",
       "    }\n",
       "\n",
       "    .dataframe thead th {\n",
       "        text-align: right;\n",
       "    }\n",
       "</style>\n",
       "<table border=\"1\" class=\"dataframe\">\n",
       "  <thead>\n",
       "    <tr style=\"text-align: right;\">\n",
       "      <th></th>\n",
       "      <th>flight_id</th>\n",
       "      <th>flight_no</th>\n",
       "      <th>scheduled_departure</th>\n",
       "      <th>scheduled_arrival</th>\n",
       "      <th>departure_airport</th>\n",
       "      <th>arrival_airport</th>\n",
       "      <th>status</th>\n",
       "      <th>aircraft_code</th>\n",
       "      <th>actual_departure</th>\n",
       "      <th>actual_arrival</th>\n",
       "    </tr>\n",
       "  </thead>\n",
       "  <tbody>\n",
       "    <tr>\n",
       "      <th>0</th>\n",
       "      <td>1185</td>\n",
       "      <td>PG0134</td>\n",
       "      <td>2017-09-10 09:50:00+03</td>\n",
       "      <td>2017-09-10 14:55:00+03</td>\n",
       "      <td>DME</td>\n",
       "      <td>BTK</td>\n",
       "      <td>Scheduled</td>\n",
       "      <td>319</td>\n",
       "      <td>\\N</td>\n",
       "      <td>\\N</td>\n",
       "    </tr>\n",
       "    <tr>\n",
       "      <th>1</th>\n",
       "      <td>3979</td>\n",
       "      <td>PG0052</td>\n",
       "      <td>2017-08-25 14:50:00+03</td>\n",
       "      <td>2017-08-25 17:35:00+03</td>\n",
       "      <td>VKO</td>\n",
       "      <td>HMA</td>\n",
       "      <td>Scheduled</td>\n",
       "      <td>CR2</td>\n",
       "      <td>\\N</td>\n",
       "      <td>\\N</td>\n",
       "    </tr>\n",
       "    <tr>\n",
       "      <th>2</th>\n",
       "      <td>4739</td>\n",
       "      <td>PG0561</td>\n",
       "      <td>2017-09-05 12:30:00+03</td>\n",
       "      <td>2017-09-05 14:15:00+03</td>\n",
       "      <td>VKO</td>\n",
       "      <td>AER</td>\n",
       "      <td>Scheduled</td>\n",
       "      <td>763</td>\n",
       "      <td>\\N</td>\n",
       "      <td>\\N</td>\n",
       "    </tr>\n",
       "    <tr>\n",
       "      <th>3</th>\n",
       "      <td>5502</td>\n",
       "      <td>PG0529</td>\n",
       "      <td>2017-09-12 09:50:00+03</td>\n",
       "      <td>2017-09-12 11:20:00+03</td>\n",
       "      <td>SVO</td>\n",
       "      <td>UFA</td>\n",
       "      <td>Scheduled</td>\n",
       "      <td>763</td>\n",
       "      <td>\\N</td>\n",
       "      <td>\\N</td>\n",
       "    </tr>\n",
       "    <tr>\n",
       "      <th>4</th>\n",
       "      <td>6938</td>\n",
       "      <td>PG0461</td>\n",
       "      <td>2017-09-04 12:25:00+03</td>\n",
       "      <td>2017-09-04 13:20:00+03</td>\n",
       "      <td>SVO</td>\n",
       "      <td>ULV</td>\n",
       "      <td>Scheduled</td>\n",
       "      <td>SU9</td>\n",
       "      <td>\\N</td>\n",
       "      <td>\\N</td>\n",
       "    </tr>\n",
       "  </tbody>\n",
       "</table>\n",
       "</div>"
      ],
      "text/plain": [
       "   flight_id flight_no     scheduled_departure       scheduled_arrival  \\\n",
       "0       1185    PG0134  2017-09-10 09:50:00+03  2017-09-10 14:55:00+03   \n",
       "1       3979    PG0052  2017-08-25 14:50:00+03  2017-08-25 17:35:00+03   \n",
       "2       4739    PG0561  2017-09-05 12:30:00+03  2017-09-05 14:15:00+03   \n",
       "3       5502    PG0529  2017-09-12 09:50:00+03  2017-09-12 11:20:00+03   \n",
       "4       6938    PG0461  2017-09-04 12:25:00+03  2017-09-04 13:20:00+03   \n",
       "\n",
       "  departure_airport arrival_airport     status aircraft_code actual_departure  \\\n",
       "0               DME             BTK  Scheduled           319               \\N   \n",
       "1               VKO             HMA  Scheduled           CR2               \\N   \n",
       "2               VKO             AER  Scheduled           763               \\N   \n",
       "3               SVO             UFA  Scheduled           763               \\N   \n",
       "4               SVO             ULV  Scheduled           SU9               \\N   \n",
       "\n",
       "  actual_arrival  \n",
       "0             \\N  \n",
       "1             \\N  \n",
       "2             \\N  \n",
       "3             \\N  \n",
       "4             \\N  "
      ]
     },
     "execution_count": 13,
     "metadata": {},
     "output_type": "execute_result"
    }
   ],
   "source": [
    "flights = pd.read_sql_query('SELECT * FROM flights', connection)\n",
    "print(flights.shape)\n",
    "flights.head()"
   ]
  },
  {
   "cell_type": "markdown",
   "id": "7a4bd5ff",
   "metadata": {},
   "source": [
    "#### table-6: seats"
   ]
  },
  {
   "cell_type": "code",
   "execution_count": 14,
   "id": "73488d43",
   "metadata": {},
   "outputs": [
    {
     "name": "stdout",
     "output_type": "stream",
     "text": [
      "(1339, 3)\n"
     ]
    },
    {
     "data": {
      "text/html": [
       "<div>\n",
       "<style scoped>\n",
       "    .dataframe tbody tr th:only-of-type {\n",
       "        vertical-align: middle;\n",
       "    }\n",
       "\n",
       "    .dataframe tbody tr th {\n",
       "        vertical-align: top;\n",
       "    }\n",
       "\n",
       "    .dataframe thead th {\n",
       "        text-align: right;\n",
       "    }\n",
       "</style>\n",
       "<table border=\"1\" class=\"dataframe\">\n",
       "  <thead>\n",
       "    <tr style=\"text-align: right;\">\n",
       "      <th></th>\n",
       "      <th>aircraft_code</th>\n",
       "      <th>seat_no</th>\n",
       "      <th>fare_conditions</th>\n",
       "    </tr>\n",
       "  </thead>\n",
       "  <tbody>\n",
       "    <tr>\n",
       "      <th>0</th>\n",
       "      <td>319</td>\n",
       "      <td>2A</td>\n",
       "      <td>Business</td>\n",
       "    </tr>\n",
       "    <tr>\n",
       "      <th>1</th>\n",
       "      <td>319</td>\n",
       "      <td>2C</td>\n",
       "      <td>Business</td>\n",
       "    </tr>\n",
       "    <tr>\n",
       "      <th>2</th>\n",
       "      <td>319</td>\n",
       "      <td>2D</td>\n",
       "      <td>Business</td>\n",
       "    </tr>\n",
       "    <tr>\n",
       "      <th>3</th>\n",
       "      <td>319</td>\n",
       "      <td>2F</td>\n",
       "      <td>Business</td>\n",
       "    </tr>\n",
       "    <tr>\n",
       "      <th>4</th>\n",
       "      <td>319</td>\n",
       "      <td>3A</td>\n",
       "      <td>Business</td>\n",
       "    </tr>\n",
       "  </tbody>\n",
       "</table>\n",
       "</div>"
      ],
      "text/plain": [
       "  aircraft_code seat_no fare_conditions\n",
       "0           319      2A        Business\n",
       "1           319      2C        Business\n",
       "2           319      2D        Business\n",
       "3           319      2F        Business\n",
       "4           319      3A        Business"
      ]
     },
     "execution_count": 14,
     "metadata": {},
     "output_type": "execute_result"
    }
   ],
   "source": [
    "seats = pd.read_sql_query('SELECT * FROM seats', connection)\n",
    "print(seats.shape)\n",
    "seats.head()"
   ]
  },
  {
   "cell_type": "markdown",
   "id": "16a5d13b",
   "metadata": {},
   "source": [
    "#### table-7: ticket_flights"
   ]
  },
  {
   "cell_type": "code",
   "execution_count": 15,
   "id": "7dc7aa4c",
   "metadata": {},
   "outputs": [
    {
     "name": "stdout",
     "output_type": "stream",
     "text": [
      "(1045726, 4)\n"
     ]
    },
    {
     "data": {
      "text/html": [
       "<div>\n",
       "<style scoped>\n",
       "    .dataframe tbody tr th:only-of-type {\n",
       "        vertical-align: middle;\n",
       "    }\n",
       "\n",
       "    .dataframe tbody tr th {\n",
       "        vertical-align: top;\n",
       "    }\n",
       "\n",
       "    .dataframe thead th {\n",
       "        text-align: right;\n",
       "    }\n",
       "</style>\n",
       "<table border=\"1\" class=\"dataframe\">\n",
       "  <thead>\n",
       "    <tr style=\"text-align: right;\">\n",
       "      <th></th>\n",
       "      <th>ticket_no</th>\n",
       "      <th>flight_id</th>\n",
       "      <th>fare_conditions</th>\n",
       "      <th>amount</th>\n",
       "    </tr>\n",
       "  </thead>\n",
       "  <tbody>\n",
       "    <tr>\n",
       "      <th>0</th>\n",
       "      <td>0005432159776</td>\n",
       "      <td>30625</td>\n",
       "      <td>Business</td>\n",
       "      <td>42100</td>\n",
       "    </tr>\n",
       "    <tr>\n",
       "      <th>1</th>\n",
       "      <td>0005435212351</td>\n",
       "      <td>30625</td>\n",
       "      <td>Business</td>\n",
       "      <td>42100</td>\n",
       "    </tr>\n",
       "    <tr>\n",
       "      <th>2</th>\n",
       "      <td>0005435212386</td>\n",
       "      <td>30625</td>\n",
       "      <td>Business</td>\n",
       "      <td>42100</td>\n",
       "    </tr>\n",
       "    <tr>\n",
       "      <th>3</th>\n",
       "      <td>0005435212381</td>\n",
       "      <td>30625</td>\n",
       "      <td>Business</td>\n",
       "      <td>42100</td>\n",
       "    </tr>\n",
       "    <tr>\n",
       "      <th>4</th>\n",
       "      <td>0005432211370</td>\n",
       "      <td>30625</td>\n",
       "      <td>Business</td>\n",
       "      <td>42100</td>\n",
       "    </tr>\n",
       "  </tbody>\n",
       "</table>\n",
       "</div>"
      ],
      "text/plain": [
       "       ticket_no  flight_id fare_conditions  amount\n",
       "0  0005432159776      30625        Business   42100\n",
       "1  0005435212351      30625        Business   42100\n",
       "2  0005435212386      30625        Business   42100\n",
       "3  0005435212381      30625        Business   42100\n",
       "4  0005432211370      30625        Business   42100"
      ]
     },
     "execution_count": 15,
     "metadata": {},
     "output_type": "execute_result"
    }
   ],
   "source": [
    "ticket_filghts = pd.read_sql_query('SELECT * FROM ticket_flights', connection)\n",
    "print(ticket_filghts.shape)\n",
    "ticket_filghts.head()"
   ]
  },
  {
   "cell_type": "markdown",
   "id": "3fb5d58c",
   "metadata": {},
   "source": [
    "#### table-8: tickets"
   ]
  },
  {
   "cell_type": "code",
   "execution_count": 16,
   "id": "8ae2f5bd",
   "metadata": {},
   "outputs": [
    {
     "name": "stdout",
     "output_type": "stream",
     "text": [
      "(366733, 3)\n"
     ]
    },
    {
     "data": {
      "text/html": [
       "<div>\n",
       "<style scoped>\n",
       "    .dataframe tbody tr th:only-of-type {\n",
       "        vertical-align: middle;\n",
       "    }\n",
       "\n",
       "    .dataframe tbody tr th {\n",
       "        vertical-align: top;\n",
       "    }\n",
       "\n",
       "    .dataframe thead th {\n",
       "        text-align: right;\n",
       "    }\n",
       "</style>\n",
       "<table border=\"1\" class=\"dataframe\">\n",
       "  <thead>\n",
       "    <tr style=\"text-align: right;\">\n",
       "      <th></th>\n",
       "      <th>ticket_no</th>\n",
       "      <th>book_ref</th>\n",
       "      <th>passenger_id</th>\n",
       "    </tr>\n",
       "  </thead>\n",
       "  <tbody>\n",
       "    <tr>\n",
       "      <th>0</th>\n",
       "      <td>0005432000987</td>\n",
       "      <td>06B046</td>\n",
       "      <td>8149 604011</td>\n",
       "    </tr>\n",
       "    <tr>\n",
       "      <th>1</th>\n",
       "      <td>0005432000988</td>\n",
       "      <td>06B046</td>\n",
       "      <td>8499 420203</td>\n",
       "    </tr>\n",
       "    <tr>\n",
       "      <th>2</th>\n",
       "      <td>0005432000989</td>\n",
       "      <td>E170C3</td>\n",
       "      <td>1011 752484</td>\n",
       "    </tr>\n",
       "    <tr>\n",
       "      <th>3</th>\n",
       "      <td>0005432000990</td>\n",
       "      <td>E170C3</td>\n",
       "      <td>4849 400049</td>\n",
       "    </tr>\n",
       "    <tr>\n",
       "      <th>4</th>\n",
       "      <td>0005432000991</td>\n",
       "      <td>F313DD</td>\n",
       "      <td>6615 976589</td>\n",
       "    </tr>\n",
       "  </tbody>\n",
       "</table>\n",
       "</div>"
      ],
      "text/plain": [
       "       ticket_no book_ref passenger_id\n",
       "0  0005432000987   06B046  8149 604011\n",
       "1  0005432000988   06B046  8499 420203\n",
       "2  0005432000989   E170C3  1011 752484\n",
       "3  0005432000990   E170C3  4849 400049\n",
       "4  0005432000991   F313DD  6615 976589"
      ]
     },
     "execution_count": 16,
     "metadata": {},
     "output_type": "execute_result"
    }
   ],
   "source": [
    "tickets = pd.read_sql_query('SELECT * FROM tickets', connection)\n",
    "print(tickets.shape)\n",
    "tickets.head()"
   ]
  },
  {
   "cell_type": "markdown",
   "id": "25d1aaff",
   "metadata": {},
   "source": [
    "#### Lets see the datatypes of all the columns\n"
   ]
  },
  {
   "cell_type": "code",
   "execution_count": 17,
   "id": "82456aae",
   "metadata": {},
   "outputs": [
    {
     "name": "stdout",
     "output_type": "stream",
     "text": [
      "\n",
      "table: aircrafts_data\n",
      "('aircraft_code', 'character(3)')\n",
      "('model', 'jsonb')\n",
      "('range', 'INTEGER')\n",
      "\n",
      "table: airports_data\n",
      "('airport_code', 'character(3)')\n",
      "('airport_name', 'jsonb')\n",
      "('city', 'jsonb')\n",
      "('coordinates', 'point')\n",
      "('timezone', 'TEXT')\n",
      "\n",
      "table: boarding_passes\n",
      "('ticket_no', 'character(13)')\n",
      "('flight_id', 'INTEGER')\n",
      "('boarding_no', 'INTEGER')\n",
      "('seat_no', 'character varying(4)')\n",
      "\n",
      "table: bookings\n",
      "('book_ref', 'character(6)')\n",
      "('book_date', 'timestamp with time zone')\n",
      "('total_amount', 'numeric(10,2)')\n",
      "\n",
      "table: flights\n",
      "('flight_id', 'INTEGER')\n",
      "('flight_no', 'character(6)')\n",
      "('scheduled_departure', 'timestamp with time zone')\n",
      "('scheduled_arrival', 'timestamp with time zone')\n",
      "('departure_airport', 'character(3)')\n",
      "('arrival_airport', 'character(3)')\n",
      "('status', 'character varying(20)')\n",
      "('aircraft_code', 'character(3)')\n",
      "('actual_departure', 'timestamp with time zone')\n",
      "('actual_arrival', 'timestamp with time zone')\n",
      "\n",
      "table: seats\n",
      "('aircraft_code', 'character(3)')\n",
      "('seat_no', 'character varying(4)')\n",
      "('fare_conditions', 'character varying(10)')\n",
      "\n",
      "table: ticket_flights\n",
      "('ticket_no', 'character(13)')\n",
      "('flight_id', 'INTEGER')\n",
      "('fare_conditions', 'character varying(10)')\n",
      "('amount', 'numeric(10,2)')\n",
      "\n",
      "table: tickets\n",
      "('ticket_no', 'character(13)')\n",
      "('book_ref', 'character(6)')\n",
      "('passenger_id', 'character varying(20)')\n"
     ]
    }
   ],
   "source": [
    "for table in table_list:\n",
    "    print('\\ntable:', table)\n",
    "    column_info = connection.execute(\"PRAGMA table_info({})\".format(table))\n",
    "    for col in column_info.fetchall():\n",
    "        print(col[1:3])\n"
   ]
  },
  {
   "cell_type": "code",
   "execution_count": 18,
   "id": "2a97de82",
   "metadata": {},
   "outputs": [
    {
     "name": "stdout",
     "output_type": "stream",
     "text": [
      "\n",
      "table: aircrafts_data\n",
      "aircraft_code    0\n",
      "model            0\n",
      "range            0\n",
      "dtype: int64\n",
      "\n",
      "table: airports_data\n",
      "airport_code    0\n",
      "airport_name    0\n",
      "city            0\n",
      "coordinates     0\n",
      "timezone        0\n",
      "dtype: int64\n",
      "\n",
      "table: boarding_passes\n",
      "ticket_no      0\n",
      "flight_id      0\n",
      "boarding_no    0\n",
      "seat_no        0\n",
      "dtype: int64\n",
      "\n",
      "table: bookings\n",
      "book_ref        0\n",
      "book_date       0\n",
      "total_amount    0\n",
      "dtype: int64\n",
      "\n",
      "table: flights\n",
      "flight_id              0\n",
      "flight_no              0\n",
      "scheduled_departure    0\n",
      "scheduled_arrival      0\n",
      "departure_airport      0\n",
      "arrival_airport        0\n",
      "status                 0\n",
      "aircraft_code          0\n",
      "actual_departure       0\n",
      "actual_arrival         0\n",
      "dtype: int64\n",
      "\n",
      "table: seats\n",
      "aircraft_code      0\n",
      "seat_no            0\n",
      "fare_conditions    0\n",
      "dtype: int64\n",
      "\n",
      "table: ticket_flights\n",
      "ticket_no          0\n",
      "flight_id          0\n",
      "fare_conditions    0\n",
      "amount             0\n",
      "dtype: int64\n",
      "\n",
      "table: tickets\n",
      "ticket_no       0\n",
      "book_ref        0\n",
      "passenger_id    0\n",
      "dtype: int64\n"
     ]
    }
   ],
   "source": [
    "# checking any missing values\n",
    "for table in table_list:\n",
    "    print(\"\\ntable:\", table)\n",
    "    df_table = pd.read_sql_query(f\"SELECT * FROM {table}\", connection)\n",
    "    print(df_table.isnull().sum())\n"
   ]
  },
  {
   "cell_type": "markdown",
   "id": "39749a15",
   "metadata": {},
   "source": [
    "we obtain there is no missing value in our dataset"
   ]
  },
  {
   "cell_type": "markdown",
   "id": "eb1da39e",
   "metadata": {},
   "source": [
    "## Analysis"
   ]
  },
  {
   "cell_type": "markdown",
   "id": "aae05e11",
   "metadata": {},
   "source": [
    "### Q1. How many planes have more than100 seats?"
   ]
  },
  {
   "cell_type": "code",
   "execution_count": 19,
   "id": "eac7c839",
   "metadata": {},
   "outputs": [
    {
     "data": {
      "text/html": [
       "<div>\n",
       "<style scoped>\n",
       "    .dataframe tbody tr th:only-of-type {\n",
       "        vertical-align: middle;\n",
       "    }\n",
       "\n",
       "    .dataframe tbody tr th {\n",
       "        vertical-align: top;\n",
       "    }\n",
       "\n",
       "    .dataframe thead th {\n",
       "        text-align: right;\n",
       "    }\n",
       "</style>\n",
       "<table border=\"1\" class=\"dataframe\">\n",
       "  <thead>\n",
       "    <tr style=\"text-align: right;\">\n",
       "      <th></th>\n",
       "      <th>aircraft_code</th>\n",
       "      <th>num_of_seats</th>\n",
       "    </tr>\n",
       "  </thead>\n",
       "  <tbody>\n",
       "    <tr>\n",
       "      <th>0</th>\n",
       "      <td>319</td>\n",
       "      <td>116</td>\n",
       "    </tr>\n",
       "    <tr>\n",
       "      <th>1</th>\n",
       "      <td>320</td>\n",
       "      <td>140</td>\n",
       "    </tr>\n",
       "    <tr>\n",
       "      <th>2</th>\n",
       "      <td>321</td>\n",
       "      <td>170</td>\n",
       "    </tr>\n",
       "    <tr>\n",
       "      <th>3</th>\n",
       "      <td>733</td>\n",
       "      <td>130</td>\n",
       "    </tr>\n",
       "    <tr>\n",
       "      <th>4</th>\n",
       "      <td>763</td>\n",
       "      <td>222</td>\n",
       "    </tr>\n",
       "    <tr>\n",
       "      <th>5</th>\n",
       "      <td>773</td>\n",
       "      <td>402</td>\n",
       "    </tr>\n",
       "  </tbody>\n",
       "</table>\n",
       "</div>"
      ],
      "text/plain": [
       "  aircraft_code  num_of_seats\n",
       "0           319           116\n",
       "1           320           140\n",
       "2           321           170\n",
       "3           733           130\n",
       "4           763           222\n",
       "5           773           402"
      ]
     },
     "execution_count": 19,
     "metadata": {},
     "output_type": "execute_result"
    }
   ],
   "source": [
    "pd.read_sql_query(\"\"\"\n",
    "    SELECT aircraft_code,\n",
    "    COUNT(*) AS num_of_seats\n",
    "    FROM seats\n",
    "    GROUP BY aircraft_code\n",
    "    HAVING num_of_seats > 100\n",
    "\"\"\", connection)"
   ]
  },
  {
   "cell_type": "markdown",
   "id": "d81fc5c3",
   "metadata": {},
   "source": [
    "### Q2. How the number of tickets booked and total amount earned changes with time"
   ]
  },
  {
   "cell_type": "code",
   "execution_count": 20,
   "id": "8902e8de",
   "metadata": {},
   "outputs": [],
   "source": [
    "tickets = pd.read_sql_query(\"\"\"\n",
    "SELECT *\n",
    "FROM tickets AS t\n",
    "INNER JOIN bookings AS b\n",
    "ON t.book_ref = b.book_ref\n",
    "\"\"\", connection)"
   ]
  },
  {
   "cell_type": "code",
   "execution_count": 21,
   "id": "7fc4aa89",
   "metadata": {},
   "outputs": [],
   "source": [
    "#Using pandas 1st we will change the data type of the book_date column from object to date time so that we can plot it in line chart\n",
    "tickets['book_date'] = pd.to_datetime(tickets['book_date'])\n",
    "tickets['date'] = tickets['book_date'].dt.date\n",
    "\n",
    "#using group by on date to find how mny tickets are booked per day\n",
    "no = tickets.groupby('date')[['date']].count()\n"
   ]
  },
  {
   "cell_type": "code",
   "execution_count": 22,
   "id": "b64cf0fb",
   "metadata": {},
   "outputs": [
    {
     "data": {
      "image/png": "[encoded data removed]",
      "text/plain": [
       "<Figure size 1800x600 with 1 Axes>"
      ]
     },
     "metadata": {},
     "output_type": "display_data"
    }
   ],
   "source": [
    "# now plotting the chart\n",
    "plt.figure(figsize = (18, 6))\n",
    "plt.plot(no.index, no['date'], marker = '^')\n",
    "plt.xlabel('Date', fontsize = 20)\n",
    "plt.ylabel('Number of tickets', fontsize = 20)\n",
    "plt.grid('b')\n",
    "plt.show()"
   ]
  },
  {
   "cell_type": "code",
   "execution_count": 23,
   "id": "22ae9536",
   "metadata": {},
   "outputs": [
    {
     "name": "stdout",
     "output_type": "stream",
     "text": [
      "  book_ref                 book_date  total_amount        date\n",
      "0   00000F 2017-07-05 03:12:00+03:00        265700  2017-07-05\n",
      "1   000012 2017-07-14 09:02:00+03:00         37900  2017-07-14\n",
      "2   000068 2017-08-15 14:27:00+03:00         18100  2017-08-15\n",
      "3   000181 2017-08-10 13:28:00+03:00        131800  2017-08-10\n",
      "4   0002D8 2017-08-07 21:40:00+03:00         23600  2017-08-07\n",
      "            total_amount\n",
      "date                    \n",
      "2017-06-21        441900\n",
      "2017-06-22        775300\n",
      "2017-06-23       1822000\n",
      "2017-06-24       5977000\n",
      "2017-06-25      15305400\n"
     ]
    }
   ],
   "source": [
    "bookings = pd.read_sql_query(\"\"\"\n",
    "SELECT *\n",
    "FROM bookings\n",
    "\"\"\", connection)\n",
    "#Using pandas 1st we will change the data type of the book_date column from object to date time so that we can plot it in line chart\n",
    "bookings['book_date'] = pd.to_datetime(bookings['book_date'])\n",
    "\n",
    "# now creating a new column which only contains the date from book_date column\n",
    "bookings['date'] = bookings['book_date'].dt.date\n",
    "\n",
    "#using group by on date to find how mny tickets are booked per day\n",
    "amount = bookings.groupby('date')[['total_amount']].sum()\n",
    "print(bookings.head())\n",
    "print(amount.head())"
   ]
  },
  {
   "cell_type": "code",
   "execution_count": 24,
   "id": "c8b52beb",
   "metadata": {},
   "outputs": [
    {
     "data": {
      "text/plain": [
       "Index(['total_amount'], dtype='object')"
      ]
     },
     "execution_count": 24,
     "metadata": {},
     "output_type": "execute_result"
    }
   ],
   "source": [
    "amount.columns"
   ]
  },
  {
   "cell_type": "code",
   "execution_count": 25,
   "id": "64606abb",
   "metadata": {},
   "outputs": [
    {
     "data": {
      "image/png": "[encoded data removed]",
      "text/plain": [
       "<Figure size 1800x600 with 1 Axes>"
      ]
     },
     "metadata": {},
     "output_type": "display_data"
    }
   ],
   "source": [
    "#now lets plot\n",
    "plt.figure(figsize =(18, 6))\n",
    "plt.plot(amount.index, amount['total_amount'], marker = '*')\n",
    "plt.xlabel('Date', fontsize = 20)\n",
    "plt.ylabel('Total amount earned', fontsize= 20)\n",
    "plt.grid('b')\n",
    "plt.show()"
   ]
  },
  {
   "cell_type": "markdown",
   "id": "65b56479",
   "metadata": {},
   "source": [
    "#### Q3. calculate the average charges for each aircraft with different fare conditions"
   ]
  },
  {
   "cell_type": "code",
   "execution_count": 31,
   "id": "354a9859",
   "metadata": {},
   "outputs": [
    {
     "data": {
      "text/html": [
       "<div>\n",
       "<style scoped>\n",
       "    .dataframe tbody tr th:only-of-type {\n",
       "        vertical-align: middle;\n",
       "    }\n",
       "\n",
       "    .dataframe tbody tr th {\n",
       "        vertical-align: top;\n",
       "    }\n",
       "\n",
       "    .dataframe thead th {\n",
       "        text-align: right;\n",
       "    }\n",
       "</style>\n",
       "<table border=\"1\" class=\"dataframe\">\n",
       "  <thead>\n",
       "    <tr style=\"text-align: right;\">\n",
       "      <th></th>\n",
       "      <th>fare_conditions</th>\n",
       "      <th>aircraft_code</th>\n",
       "      <th>AVG(amount)</th>\n",
       "    </tr>\n",
       "  </thead>\n",
       "  <tbody>\n",
       "    <tr>\n",
       "      <th>0</th>\n",
       "      <td>Business</td>\n",
       "      <td>319</td>\n",
       "      <td>113550.557703</td>\n",
       "    </tr>\n",
       "    <tr>\n",
       "      <th>1</th>\n",
       "      <td>Economy</td>\n",
       "      <td>319</td>\n",
       "      <td>38311.402347</td>\n",
       "    </tr>\n",
       "    <tr>\n",
       "      <th>2</th>\n",
       "      <td>Business</td>\n",
       "      <td>321</td>\n",
       "      <td>34435.662664</td>\n",
       "    </tr>\n",
       "    <tr>\n",
       "      <th>3</th>\n",
       "      <td>Economy</td>\n",
       "      <td>321</td>\n",
       "      <td>11534.974764</td>\n",
       "    </tr>\n",
       "    <tr>\n",
       "      <th>4</th>\n",
       "      <td>Business</td>\n",
       "      <td>733</td>\n",
       "      <td>41865.626175</td>\n",
       "    </tr>\n",
       "  </tbody>\n",
       "</table>\n",
       "</div>"
      ],
      "text/plain": [
       "  fare_conditions aircraft_code    AVG(amount)\n",
       "0        Business           319  113550.557703\n",
       "1         Economy           319   38311.402347\n",
       "2        Business           321   34435.662664\n",
       "3         Economy           321   11534.974764\n",
       "4        Business           733   41865.626175"
      ]
     },
     "execution_count": 31,
     "metadata": {},
     "output_type": "execute_result"
    }
   ],
   "source": [
    "# As flight table contains both floght_id and aircraft_code \n",
    "df = pd.read_sql_query(\"\"\"\n",
    "SELECT \n",
    "fare_conditions,\n",
    "aircraft_code,\n",
    "AVG(amount)\n",
    "FROM ticket_flights AS t\n",
    "JOIN\n",
    "flights AS f\n",
    "ON t.flight_id = f.flight_id\n",
    "GROUP BY aircraft_code, fare_conditions\n",
    "\"\"\", connection)\n",
    "df.head()"
   ]
  },
  {
   "cell_type": "code",
   "execution_count": 33,
   "id": "1c630812",
   "metadata": {},
   "outputs": [
    {
     "data": {
      "text/plain": [
       "<Axes: xlabel='aircraft_code', ylabel='AVG(amount)'>"
      ]
     },
     "execution_count": 33,
     "metadata": {},
     "output_type": "execute_result"
    },
    {
     "data": {
      "image/png": "[encoded data removed]",
      "text/plain": [
       "<Figure size 640x480 with 1 Axes>"
      ]
     },
     "metadata": {},
     "output_type": "display_data"
    }
   ],
   "source": [
    "# chart\n",
    "sns.barplot(data = df, x ='aircraft_code', y = 'AVG(amount)', hue = 'fare_conditions')"
   ]
  },
  {
   "cell_type": "markdown",
   "id": "25fc6422",
   "metadata": {},
   "source": [
    "## Analysis of occupany rate"
   ]
  },
  {
   "cell_type": "markdown",
   "id": "b1352b80",
   "metadata": {},
   "source": [
    "#### step-1: For each aircraft, calculate the total revenue per year and average revenue per ticket"
   ]
  },
  {
   "cell_type": "code",
   "execution_count": 61,
   "id": "61fcf437",
   "metadata": {},
   "outputs": [
    {
     "data": {
      "text/html": [
       "<div>\n",
       "<style scoped>\n",
       "    .dataframe tbody tr th:only-of-type {\n",
       "        vertical-align: middle;\n",
       "    }\n",
       "\n",
       "    .dataframe tbody tr th {\n",
       "        vertical-align: top;\n",
       "    }\n",
       "\n",
       "    .dataframe thead th {\n",
       "        text-align: right;\n",
       "    }\n",
       "</style>\n",
       "<table border=\"1\" class=\"dataframe\">\n",
       "  <thead>\n",
       "    <tr style=\"text-align: right;\">\n",
       "      <th></th>\n",
       "      <th>aircraft_code</th>\n",
       "      <th>ticket_count</th>\n",
       "      <th>total_revenue</th>\n",
       "      <th>avg_rev_per_ticket</th>\n",
       "    </tr>\n",
       "  </thead>\n",
       "  <tbody>\n",
       "    <tr>\n",
       "      <th>0</th>\n",
       "      <td>319</td>\n",
       "      <td>52853</td>\n",
       "      <td>2706163100</td>\n",
       "      <td>51201</td>\n",
       "    </tr>\n",
       "    <tr>\n",
       "      <th>1</th>\n",
       "      <td>321</td>\n",
       "      <td>107129</td>\n",
       "      <td>1638164100</td>\n",
       "      <td>15291</td>\n",
       "    </tr>\n",
       "    <tr>\n",
       "      <th>2</th>\n",
       "      <td>733</td>\n",
       "      <td>86102</td>\n",
       "      <td>1426552100</td>\n",
       "      <td>16568</td>\n",
       "    </tr>\n",
       "    <tr>\n",
       "      <th>3</th>\n",
       "      <td>763</td>\n",
       "      <td>124774</td>\n",
       "      <td>4371277100</td>\n",
       "      <td>35033</td>\n",
       "    </tr>\n",
       "    <tr>\n",
       "      <th>4</th>\n",
       "      <td>773</td>\n",
       "      <td>144376</td>\n",
       "      <td>3431205500</td>\n",
       "      <td>23765</td>\n",
       "    </tr>\n",
       "    <tr>\n",
       "      <th>5</th>\n",
       "      <td>CN1</td>\n",
       "      <td>14672</td>\n",
       "      <td>96373800</td>\n",
       "      <td>6568</td>\n",
       "    </tr>\n",
       "    <tr>\n",
       "      <th>6</th>\n",
       "      <td>CR2</td>\n",
       "      <td>150122</td>\n",
       "      <td>1982760500</td>\n",
       "      <td>13207</td>\n",
       "    </tr>\n",
       "    <tr>\n",
       "      <th>7</th>\n",
       "      <td>SU9</td>\n",
       "      <td>365698</td>\n",
       "      <td>5114484700</td>\n",
       "      <td>13985</td>\n",
       "    </tr>\n",
       "  </tbody>\n",
       "</table>\n",
       "</div>"
      ],
      "text/plain": [
       "  aircraft_code  ticket_count  total_revenue  avg_rev_per_ticket\n",
       "0           319         52853     2706163100               51201\n",
       "1           321        107129     1638164100               15291\n",
       "2           733         86102     1426552100               16568\n",
       "3           763        124774     4371277100               35033\n",
       "4           773        144376     3431205500               23765\n",
       "5           CN1         14672       96373800                6568\n",
       "6           CR2        150122     1982760500               13207\n",
       "7           SU9        365698     5114484700               13985"
      ]
     },
     "execution_count": 61,
     "metadata": {},
     "output_type": "execute_result"
    }
   ],
   "source": [
    "pd.read_sql_query(\"\"\"\n",
    "SELECT aircraft_code, ticket_count, total_revenue, total_revenue/ticket_count AS avg_rev_per_ticket FROM\n",
    "(SELECT aircraft_code, COUNT(*) as ticket_count, SUM(amount) AS total_revenue\n",
    "FROM ticket_flights AS t\n",
    "JOIN flights AS f\n",
    "ON t.flight_id = f.flight_id\n",
    "GROUP BY aircraft_code)\n",
    "\n",
    "                  \n",
    "\"\"\", connection)"
   ]
  },
  {
   "cell_type": "markdown",
   "id": "5b9e8a9b",
   "metadata": {},
   "source": [
    "#### step-2: calculate the average occupany per aircraft"
   ]
  },
  {
   "cell_type": "code",
   "execution_count": 57,
   "id": "32ef8469",
   "metadata": {},
   "outputs": [
    {
     "data": {
      "text/html": [
       "<div>\n",
       "<style scoped>\n",
       "    .dataframe tbody tr th:only-of-type {\n",
       "        vertical-align: middle;\n",
       "    }\n",
       "\n",
       "    .dataframe tbody tr th {\n",
       "        vertical-align: top;\n",
       "    }\n",
       "\n",
       "    .dataframe thead th {\n",
       "        text-align: right;\n",
       "    }\n",
       "</style>\n",
       "<table border=\"1\" class=\"dataframe\">\n",
       "  <thead>\n",
       "    <tr style=\"text-align: right;\">\n",
       "      <th></th>\n",
       "      <th>aircraft_code</th>\n",
       "      <th>booked_seats</th>\n",
       "      <th>num_seats</th>\n",
       "      <th>occupancy_rate</th>\n",
       "    </tr>\n",
       "  </thead>\n",
       "  <tbody>\n",
       "    <tr>\n",
       "      <th>0</th>\n",
       "      <td>319</td>\n",
       "      <td>53.58318098720292</td>\n",
       "      <td>116</td>\n",
       "      <td>0.46192397402761143</td>\n",
       "    </tr>\n",
       "    <tr>\n",
       "      <th>1</th>\n",
       "      <td>321</td>\n",
       "      <td>88.80923076923077</td>\n",
       "      <td>170</td>\n",
       "      <td>0.5224072398190045</td>\n",
       "    </tr>\n",
       "    <tr>\n",
       "      <th>2</th>\n",
       "      <td>733</td>\n",
       "      <td>80.25546218487395</td>\n",
       "      <td>130</td>\n",
       "      <td>0.617349709114415</td>\n",
       "    </tr>\n",
       "    <tr>\n",
       "      <th>3</th>\n",
       "      <td>763</td>\n",
       "      <td>113.93729372937294</td>\n",
       "      <td>222</td>\n",
       "      <td>0.5132310528350132</td>\n",
       "    </tr>\n",
       "    <tr>\n",
       "      <th>4</th>\n",
       "      <td>773</td>\n",
       "      <td>264.9258064516129</td>\n",
       "      <td>402</td>\n",
       "      <td>0.659019419033863</td>\n",
       "    </tr>\n",
       "    <tr>\n",
       "      <th>5</th>\n",
       "      <td>CN1</td>\n",
       "      <td>6.004431314623338</td>\n",
       "      <td>12</td>\n",
       "      <td>0.5003692762186115</td>\n",
       "    </tr>\n",
       "    <tr>\n",
       "      <th>6</th>\n",
       "      <td>CR2</td>\n",
       "      <td>21.48284690220174</td>\n",
       "      <td>50</td>\n",
       "      <td>0.42965693804403476</td>\n",
       "    </tr>\n",
       "    <tr>\n",
       "      <th>7</th>\n",
       "      <td>SU9</td>\n",
       "      <td>56.81211267605634</td>\n",
       "      <td>97</td>\n",
       "      <td>0.5856918832583128</td>\n",
       "    </tr>\n",
       "  </tbody>\n",
       "</table>\n",
       "</div>"
      ],
      "text/plain": [
       "  aircraft_code       booked_seats  num_seats      occupancy_rate\n",
       "0           319  53.58318098720292        116 0.46192397402761143\n",
       "1           321  88.80923076923077        170  0.5224072398190045\n",
       "2           733  80.25546218487395        130   0.617349709114415\n",
       "3           763 113.93729372937294        222  0.5132310528350132\n",
       "4           773  264.9258064516129        402   0.659019419033863\n",
       "5           CN1  6.004431314623338         12  0.5003692762186115\n",
       "6           CR2  21.48284690220174         50 0.42965693804403476\n",
       "7           SU9  56.81211267605634         97  0.5856918832583128"
      ]
     },
     "execution_count": 57,
     "metadata": {},
     "output_type": "execute_result"
    }
   ],
   "source": [
    "occupancy_rate = pd.read_sql_query(\"\"\"\n",
    "                  SELECT a.aircraft_code, avg(a.seats_count) as booked_seats, b.num_seats, avg(a.seats_count)/b.num_seats AS occupancy_rate FROM\n",
    "                  (\n",
    "                  SELECT aircraft_code, flights.flight_id, count(*) AS seats_count from boarding_passes\n",
    "                  INNER JOIN flights\n",
    "                  ON boarding_passes.flight_id = flights.flight_id\n",
    "                  GROUP BY aircraft_code, flights.flight_id) AS a\n",
    "                  INNER JOIN\n",
    "                  (SELECT aircraft_code, count(*) AS num_seats FROM seats GROUP BY aircraft_code) AS b\n",
    "                  ON a.aircraft_code = b.aircraft_code\n",
    "                  GROUP BY a.aircraft_code\n",
    "\"\"\", connection)\n",
    "occupancy_rate"
   ]
  },
  {
   "cell_type": "markdown",
   "id": "428dbf3e",
   "metadata": {},
   "source": [
    "#### Step-3: Calculate by how much the total annual turnover could increase by giving all aircraft a 10% higher occupany rate."
   ]
  },
  {
   "cell_type": "code",
   "execution_count": 58,
   "id": "36ce68d3",
   "metadata": {},
   "outputs": [
    {
     "data": {
      "text/html": [
       "<div>\n",
       "<style scoped>\n",
       "    .dataframe tbody tr th:only-of-type {\n",
       "        vertical-align: middle;\n",
       "    }\n",
       "\n",
       "    .dataframe tbody tr th {\n",
       "        vertical-align: top;\n",
       "    }\n",
       "\n",
       "    .dataframe thead th {\n",
       "        text-align: right;\n",
       "    }\n",
       "</style>\n",
       "<table border=\"1\" class=\"dataframe\">\n",
       "  <thead>\n",
       "    <tr style=\"text-align: right;\">\n",
       "      <th></th>\n",
       "      <th>aircraft_code</th>\n",
       "      <th>booked_seats</th>\n",
       "      <th>num_seats</th>\n",
       "      <th>occupancy_rate</th>\n",
       "      <th>Inc occupancy rate</th>\n",
       "    </tr>\n",
       "  </thead>\n",
       "  <tbody>\n",
       "    <tr>\n",
       "      <th>0</th>\n",
       "      <td>319</td>\n",
       "      <td>53.58318098720292</td>\n",
       "      <td>116</td>\n",
       "      <td>0.46192397402761143</td>\n",
       "      <td>0.5081163714303726</td>\n",
       "    </tr>\n",
       "    <tr>\n",
       "      <th>1</th>\n",
       "      <td>321</td>\n",
       "      <td>88.80923076923077</td>\n",
       "      <td>170</td>\n",
       "      <td>0.5224072398190045</td>\n",
       "      <td>0.574647963800905</td>\n",
       "    </tr>\n",
       "    <tr>\n",
       "      <th>2</th>\n",
       "      <td>733</td>\n",
       "      <td>80.25546218487395</td>\n",
       "      <td>130</td>\n",
       "      <td>0.617349709114415</td>\n",
       "      <td>0.6790846800258565</td>\n",
       "    </tr>\n",
       "    <tr>\n",
       "      <th>3</th>\n",
       "      <td>763</td>\n",
       "      <td>113.93729372937294</td>\n",
       "      <td>222</td>\n",
       "      <td>0.5132310528350132</td>\n",
       "      <td>0.5645541581185146</td>\n",
       "    </tr>\n",
       "    <tr>\n",
       "      <th>4</th>\n",
       "      <td>773</td>\n",
       "      <td>264.9258064516129</td>\n",
       "      <td>402</td>\n",
       "      <td>0.659019419033863</td>\n",
       "      <td>0.7249213609372492</td>\n",
       "    </tr>\n",
       "    <tr>\n",
       "      <th>5</th>\n",
       "      <td>CN1</td>\n",
       "      <td>6.004431314623338</td>\n",
       "      <td>12</td>\n",
       "      <td>0.5003692762186115</td>\n",
       "      <td>0.5504062038404727</td>\n",
       "    </tr>\n",
       "    <tr>\n",
       "      <th>6</th>\n",
       "      <td>CR2</td>\n",
       "      <td>21.48284690220174</td>\n",
       "      <td>50</td>\n",
       "      <td>0.42965693804403476</td>\n",
       "      <td>0.4726226318484382</td>\n",
       "    </tr>\n",
       "    <tr>\n",
       "      <th>7</th>\n",
       "      <td>SU9</td>\n",
       "      <td>56.81211267605634</td>\n",
       "      <td>97</td>\n",
       "      <td>0.5856918832583128</td>\n",
       "      <td>0.644261071584144</td>\n",
       "    </tr>\n",
       "  </tbody>\n",
       "</table>\n",
       "</div>"
      ],
      "text/plain": [
       "  aircraft_code       booked_seats  num_seats      occupancy_rate  \\\n",
       "0           319  53.58318098720292        116 0.46192397402761143   \n",
       "1           321  88.80923076923077        170  0.5224072398190045   \n",
       "2           733  80.25546218487395        130   0.617349709114415   \n",
       "3           763 113.93729372937294        222  0.5132310528350132   \n",
       "4           773  264.9258064516129        402   0.659019419033863   \n",
       "5           CN1  6.004431314623338         12  0.5003692762186115   \n",
       "6           CR2  21.48284690220174         50 0.42965693804403476   \n",
       "7           SU9  56.81211267605634         97  0.5856918832583128   \n",
       "\n",
       "   Inc occupancy rate  \n",
       "0  0.5081163714303726  \n",
       "1   0.574647963800905  \n",
       "2  0.6790846800258565  \n",
       "3  0.5645541581185146  \n",
       "4  0.7249213609372492  \n",
       "5  0.5504062038404727  \n",
       "6  0.4726226318484382  \n",
       "7   0.644261071584144  "
      ]
     },
     "execution_count": 58,
     "metadata": {},
     "output_type": "execute_result"
    }
   ],
   "source": [
    "occupancy_rate['Inc occupancy rate'] = occupancy_rate['occupancy_rate']+occupancy_rate['occupancy_rate']*0.1\n",
    "occupancy_rate\n"
   ]
  },
  {
   "cell_type": "code",
   "execution_count": 59,
   "id": "88482828",
   "metadata": {},
   "outputs": [],
   "source": [
    "pd.set_option('display.float_format', str)"
   ]
  },
  {
   "cell_type": "code",
   "execution_count": 60,
   "id": "e8da01c0",
   "metadata": {},
   "outputs": [
    {
     "data": {
      "text/html": [
       "<div>\n",
       "<style scoped>\n",
       "    .dataframe tbody tr th:only-of-type {\n",
       "        vertical-align: middle;\n",
       "    }\n",
       "\n",
       "    .dataframe tbody tr th {\n",
       "        vertical-align: top;\n",
       "    }\n",
       "\n",
       "    .dataframe thead th {\n",
       "        text-align: right;\n",
       "    }\n",
       "</style>\n",
       "<table border=\"1\" class=\"dataframe\">\n",
       "  <thead>\n",
       "    <tr style=\"text-align: right;\">\n",
       "      <th></th>\n",
       "      <th>aircraft_code</th>\n",
       "      <th>booked_seats</th>\n",
       "      <th>num_seats</th>\n",
       "      <th>occupancy_rate</th>\n",
       "      <th>Inc occupancy rate</th>\n",
       "      <th>Inc total annual turnover</th>\n",
       "    </tr>\n",
       "  </thead>\n",
       "  <tbody>\n",
       "    <tr>\n",
       "      <th>0</th>\n",
       "      <td>319</td>\n",
       "      <td>53.58318098720292</td>\n",
       "      <td>116</td>\n",
       "      <td>0.46192397402761143</td>\n",
       "      <td>0.5081163714303726</td>\n",
       "      <td>2706163100.0</td>\n",
       "    </tr>\n",
       "    <tr>\n",
       "      <th>1</th>\n",
       "      <td>321</td>\n",
       "      <td>88.80923076923077</td>\n",
       "      <td>170</td>\n",
       "      <td>0.5224072398190045</td>\n",
       "      <td>0.574647963800905</td>\n",
       "      <td>1638164100.0</td>\n",
       "    </tr>\n",
       "    <tr>\n",
       "      <th>2</th>\n",
       "      <td>733</td>\n",
       "      <td>80.25546218487395</td>\n",
       "      <td>130</td>\n",
       "      <td>0.617349709114415</td>\n",
       "      <td>0.6790846800258565</td>\n",
       "      <td>1426552100.0000002</td>\n",
       "    </tr>\n",
       "    <tr>\n",
       "      <th>3</th>\n",
       "      <td>763</td>\n",
       "      <td>113.93729372937294</td>\n",
       "      <td>222</td>\n",
       "      <td>0.5132310528350132</td>\n",
       "      <td>0.5645541581185146</td>\n",
       "      <td>4371277100.0</td>\n",
       "    </tr>\n",
       "    <tr>\n",
       "      <th>4</th>\n",
       "      <td>773</td>\n",
       "      <td>264.9258064516129</td>\n",
       "      <td>402</td>\n",
       "      <td>0.659019419033863</td>\n",
       "      <td>0.7249213609372492</td>\n",
       "      <td>3431205500.0</td>\n",
       "    </tr>\n",
       "    <tr>\n",
       "      <th>5</th>\n",
       "      <td>CN1</td>\n",
       "      <td>6.004431314623338</td>\n",
       "      <td>12</td>\n",
       "      <td>0.5003692762186115</td>\n",
       "      <td>0.5504062038404727</td>\n",
       "      <td>96373800.0</td>\n",
       "    </tr>\n",
       "    <tr>\n",
       "      <th>6</th>\n",
       "      <td>CR2</td>\n",
       "      <td>21.48284690220174</td>\n",
       "      <td>50</td>\n",
       "      <td>0.42965693804403476</td>\n",
       "      <td>0.4726226318484382</td>\n",
       "      <td>1982760500.0</td>\n",
       "    </tr>\n",
       "    <tr>\n",
       "      <th>7</th>\n",
       "      <td>SU9</td>\n",
       "      <td>56.81211267605634</td>\n",
       "      <td>97</td>\n",
       "      <td>0.5856918832583128</td>\n",
       "      <td>0.644261071584144</td>\n",
       "      <td>5114484700.0</td>\n",
       "    </tr>\n",
       "  </tbody>\n",
       "</table>\n",
       "</div>"
      ],
      "text/plain": [
       "  aircraft_code       booked_seats  num_seats      occupancy_rate  \\\n",
       "0           319  53.58318098720292        116 0.46192397402761143   \n",
       "1           321  88.80923076923077        170  0.5224072398190045   \n",
       "2           733  80.25546218487395        130   0.617349709114415   \n",
       "3           763 113.93729372937294        222  0.5132310528350132   \n",
       "4           773  264.9258064516129        402   0.659019419033863   \n",
       "5           CN1  6.004431314623338         12  0.5003692762186115   \n",
       "6           CR2  21.48284690220174         50 0.42965693804403476   \n",
       "7           SU9  56.81211267605634         97  0.5856918832583128   \n",
       "\n",
       "   Inc occupancy rate  Inc total annual turnover  \n",
       "0  0.5081163714303726               2706163100.0  \n",
       "1   0.574647963800905               1638164100.0  \n",
       "2  0.6790846800258565         1426552100.0000002  \n",
       "3  0.5645541581185146               4371277100.0  \n",
       "4  0.7249213609372492               3431205500.0  \n",
       "5  0.5504062038404727                 96373800.0  \n",
       "6  0.4726226318484382               1982760500.0  \n",
       "7   0.644261071584144               5114484700.0  "
      ]
     },
     "execution_count": 60,
     "metadata": {},
     "output_type": "execute_result"
    }
   ],
   "source": [
    "total_revenue = pd.read_sql_query(\"\"\"\n",
    "                                  SELECT aircraft_code, SUM(amount) AS total_revenue FROM ticket_flights\n",
    "                                  JOIN flights\n",
    "                                  ON ticket_flights.flight_id = flights.flight_id \n",
    "                                  GROUP BY aircraft_code\n",
    "                                  \n",
    "\"\"\", connection)\n",
    "occupancy_rate['Inc total annual turnover']= (total_revenue['total_revenue']/occupancy_rate['occupancy_rate'])*occupancy_rate['occupancy_rate']\n",
    "occupancy_rate"
   ]
  },
  {
   "cell_type": "code",
   "execution_count": null,
   "id": "60922de6",
   "metadata": {},
   "outputs": [],
   "source": []
  }
 ],
 "metadata": {
  "kernelspec": {
   "display_name": "base",
   "language": "python",
   "name": "python3"
  },
  "language_info": {
   "codemirror_mode": {
    "name": "ipython",
    "version": 3
   },
   "file_extension": ".py",
   "mimetype": "text/x-python",
   "name": "python",
   "nbconvert_exporter": "python",
   "pygments_lexer": "ipython3",
   "version": "3.12.7"
  }
 },
 "nbformat": 4,
 "nbformat_minor": 5
}
